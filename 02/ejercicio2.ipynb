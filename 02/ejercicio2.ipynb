{
 "cells": [
  {
   "cell_type": "markdown",
   "metadata": {},
   "source": [
    "# Solution of Programming Exercise 2 - Group N"
   ]
  },
  {
   "cell_type": "markdown",
   "metadata": {},
   "source": [
    "<p>Authors: Jairo R Mejía and Pablo Gomez.</p>"
   ]
  },
  {
   "cell_type": "markdown",
   "metadata": {},
   "source": [
    "## Problem 1 (20 pts)"
   ]
  },
  {
   "cell_type": "markdown",
   "metadata": {},
   "source": [
    "Problem 1.(20pts)\n",
    "\n"
   ]
  },
  {
   "cell_type": "markdown",
   "metadata": {},
   "source": [
    "(a) (15pts)"
   ]
  },
  {
   "cell_type": "markdown",
   "metadata": {},
   "source": [
    "(I)(5pts)"
   ]
  },
  {
   "cell_type": "code",
   "execution_count": 4,
   "metadata": {},
   "outputs": [],
   "source": [
    "import numpy as np\n",
    "import random as ra\n",
    "from scipy.stats import multivariate_normal, uniform\n",
    "import matplotlib.pyplot as plt\n",
    "\n",
    "p = lambda x1,x2: np.exp(-((100*(x2-x1**2)**2)+(1-x1)**2)/20)\n",
    "L = 5000\n",
    "cov = np.array([[0.5**2, 0],[0, 0.5**2]])"
   ]
  },
  {
   "cell_type": "markdown",
   "metadata": {},
   "source": [
    "We define the Rosenbrock functions and the Metropolis algorithm. As in this exercise we will only be asked to vary the covariance matrix, the only parameter we will introduce in the Metropolis algorithm will be the sigma.\n",
    "\n",
    "\n",
    "On the other hand, this exercise has also been solved using the explicit code to demonstrate the understanding of the algorithm."
   ]
  },
  {
   "cell_type": "code",
   "execution_count": 5,
   "metadata": {},
   "outputs": [],
   "source": [
    "def rosenbrock(x1,x2):\n",
    "    return np.exp(-((100 * (x2 - x1**2)**2) + (1 - x1)**2)/20)\n",
    "\n",
    "def metropolis_execise(sigma):\n",
    "    cov = np.array([[sigma**2, 0],[0, sigma**2]])\n",
    "    \n",
    "    number_reject=0\n",
    "    number_accept=0\n",
    "    mean=np.array([0,10])\n",
    "    iteracion = mean\n",
    "    sample = mean\n",
    "    for i in range(L):\n",
    "    \n",
    "        distr = multivariate_normal(cov = cov, mean = mean)\n",
    "        propuesta = distr.rvs(size=1)\n",
    "    \n",
    "        prob = rosenbrock(propuesta[0],propuesta[1])/rosenbrock(mean[0],mean[1])\n",
    "        random = uniform(0,1)\n",
    "    \n",
    "        if prob >= random.rvs(1):\n",
    "            iteracion =np.vstack([sample,propuesta])\n",
    "            sample =np.vstack([sample,propuesta])\n",
    "            mean = propuesta\n",
    "            number_accept=number_accept+1\n",
    "        else:\n",
    "            number_reject = number_reject+1\n",
    "            iteracion = np.vstack([sample,mean])\n",
    "    \n",
    "    return sample, number_accept / L"
   ]
  },
  {
   "cell_type": "code",
   "execution_count": 352,
   "metadata": {},
   "outputs": [
    {
     "name": "stdout",
     "output_type": "stream",
     "text": [
      "[[ 0.         10.        ]\n",
      " [-0.14491209  9.97102972]\n",
      " [-0.16290943  9.85631762]\n",
      " ...\n",
      " [-1.07567965  1.03901828]\n",
      " [-1.01870079  1.0294409 ]\n",
      " [-0.93647986  0.9830391 ]]\n"
     ]
    }
   ],
   "source": [
    "sample, ratio_accept= metropolis_execise(0.1)\n",
    "print(sample)"
   ]
  },
  {
   "cell_type": "markdown",
   "metadata": {},
   "source": [
    "We code the Metropolis Hastings algorithm and obtain a sequence."
   ]
  },
  {
   "cell_type": "code",
   "execution_count": 236,
   "metadata": {},
   "outputs": [
    {
     "name": "stdout",
     "output_type": "stream",
     "text": [
      "[[ 0.         10.        ]\n",
      " [-0.04743085 10.00058089]\n",
      " [-0.07698732  9.98150084]\n",
      " ...\n",
      " [-3.78871771 14.29448338]\n",
      " [-3.74640003 14.22341502]\n",
      " [-3.74640003 14.22341502]]\n"
     ]
    }
   ],
   "source": [
    "number_reject=0\n",
    "number_accept=0\n",
    "mean=np.array([0,10])\n",
    "iteracion = mean\n",
    "sample = mean\n",
    "\n",
    "for i in range(L):\n",
    "    \n",
    "    distr = multivariate_normal(cov =cov, mean=mean)\n",
    "    propuesta = distr.rvs(size=1)\n",
    "    \n",
    "    prob = p(propuesta[0],propuesta[1])/p(mean[0],mean[1])\n",
    "    random = uniform(0,1)\n",
    "    \n",
    "    if prob >= random.rvs(1):\n",
    "        iteracion =np.vstack([sample,propuesta])\n",
    "        sample =np.vstack([sample,propuesta])\n",
    "        mean = propuesta\n",
    "        number_accept=number_accept+1\n",
    "    else:\n",
    "        number_reject = number_reject+1\n",
    "        iteracion = np.vstack([sample,mean])\n",
    "        \n",
    "print(iteracion)"
   ]
  },
  {
   "cell_type": "markdown",
   "metadata": {},
   "source": [
    "1(II) (5 pts)"
   ]
  },
  {
   "cell_type": "markdown",
   "metadata": {},
   "source": [
    "We create the plot to obsevate the the evolution of sample and we can guess how is the distribution."
   ]
  },
  {
   "cell_type": "code",
   "execution_count": 217,
   "metadata": {},
   "outputs": [
    {
     "data": {
      "image/png": "[encoded data removed]",
      "text/plain": [
       "<Figure size 432x288 with 1 Axes>"
      ]
     },
     "metadata": {
      "needs_background": "light"
     },
     "output_type": "display_data"
    }
   ],
   "source": [
    "path = iteracion\n",
    "for n in range(iteracion.shape[0]-1):\n",
    "    iteracion[n+1] += iteracion[n]\n",
    "    \n",
    "plt.title(\"The Evolution of Each Coordinate VS Iteration\", fontweight=\"bold\", size=16)\n",
    "plt.xlabel('Two Dimension Distribution', size=14)\n",
    "plt.ylabel('Step by Step',size=14)\n",
    "\n",
    "plt.plot(*iteracion.T)\n",
    "plt.show()"
   ]
  },
  {
   "cell_type": "markdown",
   "metadata": {},
   "source": [
    "(III) (5pts)"
   ]
  },
  {
   "cell_type": "markdown",
   "metadata": {},
   "source": [
    "We desing the code to obtein the samples from different sigma.\n",
    "\n",
    "It is also possible to obtain the samples with the previously defined functions."
   ]
  },
  {
   "cell_type": "code",
   "execution_count": 218,
   "metadata": {},
   "outputs": [],
   "source": [
    "number_reject_total=np.zeros(21)\n",
    "number_accept_total=np.zeros(21)\n",
    "ratio_accept_total =np.zeros(21)\n",
    "\n",
    "for j in range(21):\n",
    "\n",
    "    cov = np.array([[(j*0.05+0.05)**2, 0],[0,(j*0.05+0.05)**2]])\n",
    "    \n",
    "    \n",
    "    number_reject=0\n",
    "    number_accept=0\n",
    "    mean=np.array([0,10])\n",
    "    iteracion = mean\n",
    "    sample = mean\n",
    "    \n",
    "    for i in range(L):\n",
    "    \n",
    "        distr = multivariate_normal(cov =cov, mean=mean)\n",
    "        propuesta = distr.rvs(size=1)\n",
    "    \n",
    "        prob = p(propuesta[0],propuesta[1])/p(mean[0],mean[1])\n",
    "        random = uniform(0,1)\n",
    "    \n",
    "        if prob >= random.rvs(1):\n",
    "            iteracion =np.vstack([sample,propuesta])\n",
    "            sample =np.vstack([sample,propuesta])\n",
    "            mean = propuesta\n",
    "            number_accept=number_accept+1\n",
    "        else:\n",
    "            number_reject = number_reject+1\n",
    "            iteracion = np.vstack([sample,mean])\n",
    "    \n",
    "    number_reject_total[j]=number_reject\n",
    "    number_accept_total[j]=number_accept\n",
    "    ratio_accept_total[j]=number_accept/5000\n",
    "    \n",
    "\n",
    "        \n"
   ]
  },
  {
   "cell_type": "code",
   "execution_count": 353,
   "metadata": {},
   "outputs": [],
   "source": [
    "ratio_accept_total=np.zeros(21)\n",
    "for j in range(21):\n",
    "\n",
    "    sigma = j*0.05+0.05\n",
    "    samples, ratio_accept = metropolis_execise(sigma)\n",
    "    ratio_accept_total[j] =ratio_accept\n",
    "    \n",
    "    \n",
    "    "
   ]
  },
  {
   "cell_type": "markdown",
   "metadata": {},
   "source": [
    "Now we make the plot of how change sigma."
   ]
  },
  {
   "cell_type": "code",
   "execution_count": 221,
   "metadata": {},
   "outputs": [
    {
     "data": {
      "image/png": "[encoded data removed]",
      "text/plain": [
       "<Figure size 1332x756 with 1 Axes>"
      ]
     },
     "metadata": {
      "needs_background": "light"
     },
     "output_type": "display_data"
    }
   ],
   "source": [
    "\n",
    "fig, ax = plt.subplots()\n",
    "fig.set_size_inches(18.5, 10.5)\n",
    "ax.plot(np.linspace(0.05, 1.05, 21), ratio_accept_total, linewidth=2.0)\n",
    "ax.set(xlim=(0, 1.1), ylim=(0, 1))\n",
    "\n",
    "plt.title(\"Ratio between accepted proposal and the number of samples verses sigma \", fontweight=\"bold\", size=16)\n",
    "plt.xlabel('Sigma Size')\n",
    "plt.ylabel('Samples Accept') \n",
    "\n",
    "\n",
    "plt.grid()\n",
    "plt.show()"
   ]
  },
  {
   "cell_type": "markdown",
   "metadata": {},
   "source": [
    "1(b) (5pts)"
   ]
  },
  {
   "cell_type": "markdown",
   "metadata": {},
   "source": [
    "First let's have the samples for the different sigmas: 0.1, 0.5, 1"
   ]
  },
  {
   "cell_type": "code",
   "execution_count": 313,
   "metadata": {},
   "outputs": [],
   "source": [
    "samples01 = metropolis_execise(0.1)\n",
    "samples05 = metropolis_execise(0.5)\n",
    "samples1  = metropolis_execise(1)\n"
   ]
  },
  {
   "cell_type": "markdown",
   "metadata": {},
   "source": [
    "We define the given function for the calculation of the autocorrelation."
   ]
  },
  {
   "cell_type": "code",
   "execution_count": 305,
   "metadata": {},
   "outputs": [],
   "source": [
    "def rk(k,samples):\n",
    "    #that´s the funtion to calculate autocorrelation.\n",
    "    \n",
    "    mean = np.mean(samples,0)\n",
    "    b0=0\n",
    "    b1=0\n",
    "    c0=0\n",
    "    c1=0\n",
    "    L = np.size(samples01,0)\n",
    "    a=1/(L-k)\n",
    "    \n",
    "    \n",
    "    for i in range(L-k):\n",
    "        b0 = b0+(samples[i][0]-mean[0])*(samples[i+k][0]-mean[0])\n",
    "        b1 = b1+(samples[i][1]-mean[1])*(samples[i+k][1]-mean[1])\n",
    "    \n",
    "    \n",
    "    \n",
    "    for j in range(L):\n",
    "        c0 = c0+(samples[i][0]-mean[0])**2\n",
    "        c1 = c1+(samples[i][1]-mean[1])**2\n",
    "            \n",
    "    a = (a*b0)/(c0/L)\n",
    "    b = (a*b1)/(c1/L)\n",
    "    return a,b\n",
    "        \n",
    "        \n",
    "    "
   ]
  },
  {
   "cell_type": "markdown",
   "metadata": {},
   "source": [
    "Ahora calculamos los diferentes valores de rk."
   ]
  },
  {
   "cell_type": "code",
   "execution_count": 329,
   "metadata": {},
   "outputs": [
    {
     "ename": "IndexError",
     "evalue": "index 713 is out of bounds for axis 0 with size 713",
     "output_type": "error",
     "traceback": [
      "\u001b[1;31m---------------------------------------------------------------------------\u001b[0m",
      "\u001b[1;31mIndexError\u001b[0m                                Traceback (most recent call last)",
      "\u001b[1;32mc:\\Users\\Cash\\Desktop\\Sommer Semester\\Información\\Ejercicio 2\\ejercicio2.ipynb Cell 25'\u001b[0m in \u001b[0;36m<cell line: 7>\u001b[1;34m()\u001b[0m\n\u001b[0;32m      <a href='vscode-notebook-cell:/c%3A/Users/Cash/Desktop/Sommer%20Semester/Informaci%C3%B3n/Ejercicio%202/ejercicio2.ipynb#ch0000031?line=6'>7</a>\u001b[0m \u001b[39mfor\u001b[39;00m k \u001b[39min\u001b[39;00m \u001b[39mrange\u001b[39m(\u001b[39m2000\u001b[39m):\n\u001b[0;32m      <a href='vscode-notebook-cell:/c%3A/Users/Cash/Desktop/Sommer%20Semester/Informaci%C3%B3n/Ejercicio%202/ejercicio2.ipynb#ch0000031?line=7'>8</a>\u001b[0m     correlation01X, correllation01Y\u001b[39m=\u001b[39m rk(k\u001b[39m=\u001b[39mk,samples\u001b[39m=\u001b[39msamples01)\n\u001b[1;32m----> <a href='vscode-notebook-cell:/c%3A/Users/Cash/Desktop/Sommer%20Semester/Informaci%C3%B3n/Ejercicio%202/ejercicio2.ipynb#ch0000031?line=8'>9</a>\u001b[0m     correlation05X, correllation05Y\u001b[39m=\u001b[39m rk(k\u001b[39m=\u001b[39;49mk,samples\u001b[39m=\u001b[39;49msamples05)\n\u001b[0;32m     <a href='vscode-notebook-cell:/c%3A/Users/Cash/Desktop/Sommer%20Semester/Informaci%C3%B3n/Ejercicio%202/ejercicio2.ipynb#ch0000031?line=9'>10</a>\u001b[0m     correlation1X, correllation1Y\u001b[39m=\u001b[39m rk(k\u001b[39m=\u001b[39mk,samples\u001b[39m=\u001b[39msamples1)\n",
      "\u001b[1;32mc:\\Users\\Cash\\Desktop\\Sommer Semester\\Información\\Ejercicio 2\\ejercicio2.ipynb Cell 24'\u001b[0m in \u001b[0;36mrk\u001b[1;34m(k, samples)\u001b[0m\n\u001b[0;32m      <a href='vscode-notebook-cell:/c%3A/Users/Cash/Desktop/Sommer%20Semester/Informaci%C3%B3n/Ejercicio%202/ejercicio2.ipynb#ch0000029?line=7'>8</a>\u001b[0m a\u001b[39m=\u001b[39m\u001b[39m1\u001b[39m\u001b[39m/\u001b[39m(L\u001b[39m-\u001b[39mk)\n\u001b[0;32m     <a href='vscode-notebook-cell:/c%3A/Users/Cash/Desktop/Sommer%20Semester/Informaci%C3%B3n/Ejercicio%202/ejercicio2.ipynb#ch0000029?line=10'>11</a>\u001b[0m \u001b[39mfor\u001b[39;00m i \u001b[39min\u001b[39;00m \u001b[39mrange\u001b[39m(L\u001b[39m-\u001b[39mk):\n\u001b[1;32m---> <a href='vscode-notebook-cell:/c%3A/Users/Cash/Desktop/Sommer%20Semester/Informaci%C3%B3n/Ejercicio%202/ejercicio2.ipynb#ch0000029?line=11'>12</a>\u001b[0m     b0 \u001b[39m=\u001b[39m b0\u001b[39m+\u001b[39m(samples[i][\u001b[39m0\u001b[39m]\u001b[39m-\u001b[39mmean[\u001b[39m0\u001b[39m])\u001b[39m*\u001b[39m(samples[i\u001b[39m+\u001b[39mk][\u001b[39m0\u001b[39m]\u001b[39m-\u001b[39mmean[\u001b[39m0\u001b[39m])\n\u001b[0;32m     <a href='vscode-notebook-cell:/c%3A/Users/Cash/Desktop/Sommer%20Semester/Informaci%C3%B3n/Ejercicio%202/ejercicio2.ipynb#ch0000029?line=12'>13</a>\u001b[0m     b1 \u001b[39m=\u001b[39m b1\u001b[39m+\u001b[39m(samples[i][\u001b[39m1\u001b[39m]\u001b[39m-\u001b[39mmean[\u001b[39m1\u001b[39m])\u001b[39m*\u001b[39m(samples[i\u001b[39m+\u001b[39mk][\u001b[39m1\u001b[39m]\u001b[39m-\u001b[39mmean[\u001b[39m1\u001b[39m])\n\u001b[0;32m     <a href='vscode-notebook-cell:/c%3A/Users/Cash/Desktop/Sommer%20Semester/Informaci%C3%B3n/Ejercicio%202/ejercicio2.ipynb#ch0000029?line=16'>17</a>\u001b[0m \u001b[39mfor\u001b[39;00m j \u001b[39min\u001b[39;00m \u001b[39mrange\u001b[39m(L):\n",
      "\u001b[1;31mIndexError\u001b[0m: index 713 is out of bounds for axis 0 with size 713"
     ]
    }
   ],
   "source": [
    "correlation01X=np.zeros(2000)\n",
    "correlation01Y=np.zeros(2000)\n",
    "correlation05X=np.zeros(2000)\n",
    "correlation05Y=np.zeros(2000)\n",
    "correlation1X=np.zeros(20000)\n",
    "correlation1Y=np.zeros(2000)\n",
    "for k in range(2000):\n",
    "    correlation01X, correllation01Y= rk(k=k,samples=samples01)\n",
    "    correlation05X, correllation05Y= rk(k=k,samples=samples05)\n",
    "    correlation1X, correllation1Y= rk(k=k,samples=samples1)\n"
   ]
  },
  {
   "cell_type": "markdown",
   "metadata": {},
   "source": [
    "Finally, we plot the autocorrelation graphs."
   ]
  }
 ],
 "metadata": {
  "interpreter": {
   "hash": "957088417ecef81ab8af653d098048e015a1ab0592e3382880247f4f65e03f52"
  },
  "kernelspec": {
   "display_name": "Python 3 (ipykernel)",
   "language": "python",
   "name": "python3"
  },
  "language_info": {
   "codemirror_mode": {
    "name": "ipython",
    "version": 3
   },
   "file_extension": ".py",
   "mimetype": "text/x-python",
   "name": "python",
   "nbconvert_exporter": "python",
   "pygments_lexer": "ipython3",
   "version": "3.9.12"
  }
 },
 "nbformat": 4,
 "nbformat_minor": 4
}
