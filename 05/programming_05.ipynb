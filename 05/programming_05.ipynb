{
 "cells": [
  {
   "cell_type": "markdown",
   "metadata": {},
   "source": [
    "# Solution of Programming Exercise 5 - Group N"
   ]
  },
  {
   "cell_type": "markdown",
   "metadata": {},
   "source": [
    "Authors:  Jairo R. Mejia and Pablo Gomez Hidalgo"
   ]
  },
  {
   "cell_type": "code",
   "execution_count": 1,
   "metadata": {},
   "outputs": [],
   "source": [
    "import numpy as np\n",
    "import matplotlib.pyplot as plt\n",
    "from matplotlib import gridspec\n",
    "from typing import Tuple\n",
    "from scipy.io import loadmat"
   ]
  },
  {
   "cell_type": "markdown",
   "metadata": {},
   "source": [
    "We define the algorithm of *Principal component Analysis* according to the description sheet\n",
    "\n",
    "**Remark:**\n",
    "The error given during this algorithm is not the same that shows the description of the task, this would lead to a number that does not show the behavior of the dataset. Instead we use follow the concept of *Scree Plot*."
   ]
  },
  {
   "cell_type": "code",
   "execution_count": 2,
   "metadata": {},
   "outputs": [],
   "source": [
    "def PCA(X : np.ndarray, n_components : int) -> Tuple[np.ndarray, float]:\n",
    "    \"\"\"Applies PCA\n",
    "\n",
    "    Args:\n",
    "        X (N x D array): original data\n",
    "        n_components (int): number of principal components\n",
    "\n",
    "    Returns:\n",
    "        reconstruct_dataset (N x D array): approx reconstruction\n",
    "        error: reconstructed error\n",
    "    \"\"\"\n",
    "    N = X.shape[0]\n",
    "    D = X.shape[1]\n",
    "    mean = X.mean(0)\n",
    "    sigma = np.cov(X, ddof = 1, rowvar = False)\n",
    "    eig_vals, eig_vectors = np.linalg.eig(sigma)\n",
    "    sorted_eig_vals = eig_vals[np.argsort(eig_vals)[::-1]]\n",
    "    sorted_eig_vectors = eig_vectors[: , np.argsort(eig_vals)[::-1]]\n",
    "    matrixE = sorted_eig_vectors[:, 0 : n_components]\n",
    "    \n",
    "    reconstruct_dataset = np.zeros([N, D])\n",
    "    lower_dimension_dataset = np.zeros([N, n_components])\n",
    "    for i in range(N):\n",
    "        lower_dimension_dataset[i] = (matrixE.T  @ (np.subtract(X[i], mean)))\n",
    "        reconstruct_dataset[i] = mean + matrixE @ lower_dimension_dataset[i]\n",
    "    \n",
    "    error = np.sum(sorted_eig_vals[n_components:]) / np.sum(sorted_eig_vals)\n",
    "    return reconstruct_dataset, error\n",
    "    "
   ]
  },
  {
   "cell_type": "markdown",
   "metadata": {},
   "source": [
    "We import the dataset and start the PCA analysis to recover after the lower dimension transformation the image and we plot the pair images to see the changes"
   ]
  },
  {
   "cell_type": "code",
   "execution_count": 3,
   "metadata": {},
   "outputs": [
    {
     "name": "stdout",
     "output_type": "stream",
     "text": [
      "The error is:  0.16590024031370557\n"
     ]
    },
    {
     "data": {
      "image/png": "[encoded data removed]",
      "text/plain": [
       "<Figure size 288x576 with 10 Axes>"
      ]
     },
     "metadata": {
      "needs_background": "light"
     },
     "output_type": "display_data"
    }
   ],
   "source": [
    "# Constants to run the algorithm\n",
    "NUM_FIGS = 5\n",
    "NUM_COMPONENTS = 5\n",
    "\n",
    "# Import the digit database\n",
    "db = loadmat(\"digit_database/ones.mat\")\n",
    "\n",
    "# Get the data to make the PCA\n",
    "X = db['X']\n",
    "recon_X, error = PCA(X, NUM_COMPONENTS)\n",
    "\n",
    "print (\"The error is: \", error)\n",
    "\n",
    "# seed random number generator\n",
    "np.random.seed(1)\n",
    "# generate some integers\n",
    "random_imgs = np.random.randint(0, 100, NUM_FIGS)\n",
    "\n",
    "# Show some images\n",
    "fig = plt.figure(figsize=(4, 1.6 * NUM_FIGS))\n",
    "gs = gridspec.GridSpec(NUM_FIGS, 2, width_ratios=[1, 1], wspace=0.08, hspace=0.0, top=0.95, bottom=0.05, left=0.17, right=0.845) \n",
    "fig_num = 0\n",
    "for i in random_imgs:\n",
    "    original_img = X[:,i].reshape(28,28)\n",
    "    recon_img = recon_X[:,i].reshape(28,28)\n",
    "    \n",
    "    # Set the plots\n",
    "    axs = plt.subplot(gs[fig_num, 0])\n",
    "    axs.imshow(original_img)\n",
    "    axs.axis('off')\n",
    "    \n",
    "    axs = plt.subplot(gs[fig_num, 1])\n",
    "    axs.imshow(recon_img)\n",
    "    axs.axis('off')\n",
    "    \n",
    "    fig_num = fig_num + 1"
   ]
  }
 ],
 "metadata": {
  "kernelspec": {
   "display_name": "Python 3.9.12 ('ml-ict')",
   "language": "python",
   "name": "python3"
  },
  "language_info": {
   "codemirror_mode": {
    "name": "ipython",
    "version": 3
   },
   "file_extension": ".py",
   "mimetype": "text/x-python",
   "name": "python",
   "nbconvert_exporter": "python",
   "pygments_lexer": "ipython3",
   "version": "3.9.12"
  },
  "orig_nbformat": 4,
  "vscode": {
   "interpreter": {
    "hash": "bb5a690cde93f6c43977205addcfd52691fa583e4a8586e6c415bff46a6fffbd"
   }
  }
 },
 "nbformat": 4,
 "nbformat_minor": 2
}
